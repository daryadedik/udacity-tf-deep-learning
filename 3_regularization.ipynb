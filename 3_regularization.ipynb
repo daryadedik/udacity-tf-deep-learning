{
 "cells": [
  {
   "cell_type": "markdown",
   "metadata": {
    "colab_type": "text",
    "id": "kR-4eNdK6lYS"
   },
   "source": [
    "Deep Learning\n",
    "=============\n",
    "\n",
    "Assignment 3\n",
    "------------\n",
    "\n",
    "Previously in `2_fullyconnected.ipynb`, you trained a logistic regression and a neural network model.\n",
    "\n",
    "The goal of this assignment is to explore regularization techniques."
   ]
  },
  {
   "cell_type": "code",
   "execution_count": 7,
   "metadata": {
    "cellView": "both",
    "colab": {
     "autoexec": {
      "startup": false,
      "wait_interval": 0
     }
    },
    "colab_type": "code",
    "collapsed": false,
    "id": "JLpLa8Jt7Vu4"
   },
   "outputs": [],
   "source": [
    "# These are all the modules we'll be using later. Make sure you can import them\n",
    "# before proceeding further.\n",
    "from __future__ import print_function\n",
    "import numpy as np\n",
    "import tensorflow as tf\n",
    "import matplotlib.pyplot as plt\n",
    "from six.moves import cPickle as pickle"
   ]
  },
  {
   "cell_type": "markdown",
   "metadata": {
    "colab_type": "text",
    "id": "1HrCK6e17WzV"
   },
   "source": [
    "First reload the data we generated in `1_notmnist.ipynb`."
   ]
  },
  {
   "cell_type": "code",
   "execution_count": 8,
   "metadata": {
    "cellView": "both",
    "colab": {
     "autoexec": {
      "startup": false,
      "wait_interval": 0
     },
     "output_extras": [
      {
       "item_id": 1
      }
     ]
    },
    "colab_type": "code",
    "collapsed": false,
    "executionInfo": {
     "elapsed": 11777,
     "status": "ok",
     "timestamp": 1449849322348,
     "user": {
      "color": "",
      "displayName": "",
      "isAnonymous": false,
      "isMe": true,
      "permissionId": "",
      "photoUrl": "",
      "sessionId": "0",
      "userId": ""
     },
     "user_tz": 480
    },
    "id": "y3-cj1bpmuxc",
    "outputId": "e03576f1-ebbe-4838-c388-f1777bcc9873"
   },
   "outputs": [
    {
     "name": "stdout",
     "output_type": "stream",
     "text": [
      "Training set (200000, 28, 28) (200000,)\n",
      "Validation set (10000, 28, 28) (10000,)\n",
      "Test set (10000, 28, 28) (10000,)\n"
     ]
    }
   ],
   "source": [
    "pickle_file = 'notMNIST.pickle'\n",
    "\n",
    "with open(pickle_file, 'rb') as f:\n",
    "    save = pickle.load(f)\n",
    "    train_dataset = save['train_dataset']\n",
    "    train_labels = save['train_labels']\n",
    "    valid_dataset = save['valid_dataset']\n",
    "    valid_labels = save['valid_labels']\n",
    "    test_dataset = save['test_dataset']\n",
    "    test_labels = save['test_labels']\n",
    "    del save  # hint to help gc free up memory\n",
    "    print('Training set', train_dataset.shape, train_labels.shape)\n",
    "    print('Validation set', valid_dataset.shape, valid_labels.shape)\n",
    "    print('Test set', test_dataset.shape, test_labels.shape)"
   ]
  },
  {
   "cell_type": "markdown",
   "metadata": {
    "colab_type": "text",
    "id": "L7aHrm6nGDMB"
   },
   "source": [
    "Reformat into a shape that's more adapted to the models we're going to train:\n",
    "- data as a flat matrix,\n",
    "- labels as float 1-hot encodings."
   ]
  },
  {
   "cell_type": "code",
   "execution_count": 9,
   "metadata": {
    "cellView": "both",
    "colab": {
     "autoexec": {
      "startup": false,
      "wait_interval": 0
     },
     "output_extras": [
      {
       "item_id": 1
      }
     ]
    },
    "colab_type": "code",
    "collapsed": false,
    "executionInfo": {
     "elapsed": 11728,
     "status": "ok",
     "timestamp": 1449849322356,
     "user": {
      "color": "",
      "displayName": "",
      "isAnonymous": false,
      "isMe": true,
      "permissionId": "",
      "photoUrl": "",
      "sessionId": "0",
      "userId": ""
     },
     "user_tz": 480
    },
    "id": "IRSyYiIIGIzS",
    "outputId": "3f8996ee-3574-4f44-c953-5c8a04636582"
   },
   "outputs": [
    {
     "name": "stdout",
     "output_type": "stream",
     "text": [
      "Training set (200000, 784) (200000, 10)\n",
      "Validation set (10000, 784) (10000, 10)\n",
      "Test set (10000, 784) (10000, 10)\n"
     ]
    }
   ],
   "source": [
    "image_size = 28\n",
    "num_labels = 10\n",
    "\n",
    "def reformat(dataset, labels):\n",
    "    dataset = dataset.reshape((-1, image_size * image_size)).astype(np.float32)\n",
    "    # Map 1 to [0.0, 1.0, 0.0 ...], 2 to [0.0, 0.0, 1.0 ...]\n",
    "    labels = (np.arange(num_labels) == labels[:,None]).astype(np.float32)\n",
    "    return dataset, labels\n",
    "train_dataset, train_labels = reformat(train_dataset, train_labels)\n",
    "valid_dataset, valid_labels = reformat(valid_dataset, valid_labels)\n",
    "test_dataset, test_labels = reformat(test_dataset, test_labels)\n",
    "print('Training set', train_dataset.shape, train_labels.shape)\n",
    "print('Validation set', valid_dataset.shape, valid_labels.shape)\n",
    "print('Test set', test_dataset.shape, test_labels.shape)"
   ]
  },
  {
   "cell_type": "code",
   "execution_count": 10,
   "metadata": {
    "cellView": "both",
    "colab": {
     "autoexec": {
      "startup": false,
      "wait_interval": 0
     }
    },
    "colab_type": "code",
    "collapsed": true,
    "id": "RajPLaL_ZW6w"
   },
   "outputs": [],
   "source": [
    "def accuracy(predictions, labels):\n",
    "    return (100.0 * np.sum(np.argmax(predictions, 1) == np.argmax(labels, 1))\n",
    "          / predictions.shape[0])"
   ]
  },
  {
   "cell_type": "markdown",
   "metadata": {
    "colab_type": "text",
    "id": "sgLbUAQ1CW-1"
   },
   "source": [
    "---\n",
    "Problem 1\n",
    "---------\n",
    "\n",
    "Introduce and tune L2 regularization for both logistic and neural network models. Remember that L2 amounts to adding a penalty on the norm of the weights to the loss. In TensorFlow, you can compute the L2 loss for a tensor `t` using `nn.l2_loss(t)`. The right amount of regularization should improve your validation / test accuracy.\n",
    "\n",
    "---"
   ]
  },
  {
   "cell_type": "code",
   "execution_count": 11,
   "metadata": {
    "collapsed": true
   },
   "outputs": [],
   "source": [
    "batch_size = 128\n",
    "\n",
    "graph = tf.Graph()\n",
    "with graph.as_default():\n",
    "    tf_train_dataset = tf.placeholder(tf.float32, shape=(batch_size, image_size * image_size))\n",
    "    tf_train_labels = tf.placeholder(tf.float32, shape=(batch_size, num_labels))\n",
    "    tf_valid_dataset = tf.constant(valid_dataset)\n",
    "    tf_test_dataset = tf.constant(test_dataset)\n",
    "\n",
    "    hidden_layer_size = 1024\n",
    "    hidden_weights = tf.Variable(tf.truncated_normal([image_size * image_size, hidden_layer_size]))\n",
    "    hidden_biases = tf.Variable(tf.zeros([hidden_layer_size]))\n",
    "    hidden_layer = tf.nn.relu(tf.matmul(tf_train_dataset, hidden_weights) + hidden_biases)\n",
    "\n",
    "    output_weights = tf.Variable(tf.truncated_normal([hidden_layer_size, num_labels]))\n",
    "    output_biases = tf.Variable(tf.zeros([num_labels]))\n",
    "    logits = tf.matmul(hidden_layer, output_weights) + output_biases\n",
    "\n",
    "    loss = tf.reduce_mean(tf.nn.softmax_cross_entropy_with_logits(logits=logits, labels=tf_train_labels))\n",
    "    l2_regularizer = tf.nn.l2_loss(output_weights) + tf.nn.l2_loss(hidden_weights)\n",
    "    loss += 5e-4 * l2_regularizer\n",
    "    optimizer = tf.train.GradientDescentOptimizer(0.5).minimize(loss)\n",
    "\n",
    "    train_prediction = tf.nn.softmax(logits)\n",
    "    # Setup validation prediction step.\n",
    "    valid_hidden = tf.nn.relu(tf.matmul(tf_valid_dataset, hidden_weights) + hidden_biases)\n",
    "    valid_logits = tf.matmul(valid_hidden, output_weights) + output_biases\n",
    "    valid_prediction = tf.nn.softmax(valid_logits)\n",
    "\n",
    "    # And setup the test prediction step.\n",
    "    test_hidden = tf.nn.relu(tf.matmul(tf_test_dataset, hidden_weights) + hidden_biases)\n",
    "    test_logits = tf.matmul(test_hidden, output_weights) + output_biases\n",
    "    test_prediction = tf.nn.softmax(test_logits)"
   ]
  },
  {
   "cell_type": "code",
   "execution_count": 12,
   "metadata": {
    "collapsed": false
   },
   "outputs": [
    {
     "name": "stdout",
     "output_type": "stream",
     "text": [
      "Initialized\n",
      "Minibatch loss at step 0: 512.509277\n",
      "Minibatch accuracy: 5.5%\n",
      "Validation accuracy: 34.4%\n",
      "Test accuracy: 37.1%\n",
      "Minibatch loss at step 500: 133.451141\n",
      "Minibatch accuracy: 83.6%\n",
      "Validation accuracy: 76.9%\n",
      "Test accuracy: 83.7%\n",
      "Minibatch loss at step 1000: 96.278862\n",
      "Minibatch accuracy: 80.5%\n",
      "Validation accuracy: 81.6%\n",
      "Test accuracy: 87.9%\n",
      "Minibatch loss at step 1500: 74.026848\n",
      "Minibatch accuracy: 86.7%\n",
      "Validation accuracy: 82.2%\n",
      "Test accuracy: 89.0%\n",
      "Minibatch loss at step 2000: 56.333527\n",
      "Minibatch accuracy: 89.8%\n",
      "Validation accuracy: 83.1%\n",
      "Test accuracy: 90.0%\n",
      "Minibatch loss at step 2500: 44.041615\n",
      "Minibatch accuracy: 83.6%\n",
      "Validation accuracy: 83.1%\n",
      "Test accuracy: 90.6%\n",
      "Minibatch loss at step 3000: 34.088036\n",
      "Minibatch accuracy: 83.6%\n",
      "Validation accuracy: 84.5%\n",
      "Test accuracy: 91.5%\n",
      "  Test accuracy: 91.5%\n"
     ]
    },
    {
     "data": {
      "image/png": "[encoded data removed]",
      "text/plain": [
       "<matplotlib.figure.Figure at 0x11af61510>"
      ]
     },
     "metadata": {},
     "output_type": "display_data"
    }
   ],
   "source": [
    "num_steps = 3001\n",
    "result_data = np.ndarray(shape=(1+num_steps//100,4), dtype=np.float32)\n",
    "\n",
    "with tf.Session(graph=graph) as session:\n",
    "    tf.global_variables_initializer().run()\n",
    "    print(\"Initialized\")\n",
    "    for step in range(num_steps):\n",
    "        offset = (step * batch_size) % (train_labels.shape[0] - batch_size)\n",
    "        batch_data = train_dataset[offset:(offset + batch_size), :]\n",
    "        batch_labels = train_labels[offset:(offset + batch_size), :]\n",
    "        feed_dict = {tf_train_dataset : batch_data, tf_train_labels : batch_labels}\n",
    "        _, l, predictions = session.run(\n",
    "          [optimizer, loss, train_prediction], feed_dict=feed_dict)\n",
    "        if (step % 100 == 0):\n",
    "            batch_score = accuracy(predictions, batch_labels)\n",
    "            valid_score = accuracy(valid_prediction.eval(), valid_labels)\n",
    "            test_score = accuracy(test_prediction.eval(), test_labels)\n",
    "            if (step % 500 == 0):\n",
    "                print(\"Minibatch loss at step %d: %f\" % (step, l))\n",
    "                print(\"Minibatch accuracy: %.1f%%\" % batch_score)\n",
    "                print(\"Validation accuracy: %.1f%%\" % valid_score)\n",
    "                print(\"Test accuracy: %.1f%%\" % test_score)\n",
    "            result_data[step//100,:] = [step*batch_size, batch_score/100, valid_score/100, test_score/100]\n",
    "    print(\"  Test accuracy: %.1f%%\" % test_score)\n",
    "    \n",
    "\"\"\"\n",
    "Plot results\n",
    "\"\"\"\n",
    "fig, ax = plt.subplots()\n",
    "ax.plot(result_data[:,0], result_data[:,1:4])\n",
    "ax.set_title('Scores given training size')\n",
    "ax.legend(('batch','valid', 'test'), loc='lower right')\n",
    "ax.set_xticks(result_data[:,0])\n",
    "ax.set_xlabel('Training size')\n",
    "ax.set_ylim(0,1.01)\n",
    "ax.grid()\n",
    "plt.show()"
   ]
  },
  {
   "cell_type": "markdown",
   "metadata": {
    "colab_type": "text",
    "id": "na8xX2yHZzNF"
   },
   "source": [
    "---\n",
    "Problem 2\n",
    "---------\n",
    "Let's demonstrate an extreme case of overfitting. Restrict your training data to just a few batches. What happens?\n",
    "\n",
    "---"
   ]
  },
  {
   "cell_type": "code",
   "execution_count": 13,
   "metadata": {
    "collapsed": true
   },
   "outputs": [],
   "source": [
    "batch_size = 128\n",
    "\n",
    "graph = tf.Graph()\n",
    "with graph.as_default():\n",
    "    tf_train_dataset = tf.placeholder(tf.float32, shape=(batch_size, image_size * image_size))\n",
    "    tf_train_labels = tf.placeholder(tf.float32, shape=(batch_size, num_labels))\n",
    "    tf_valid_dataset = tf.constant(valid_dataset)\n",
    "    tf_test_dataset = tf.constant(test_dataset)\n",
    "\n",
    "    hidden_layer_size = 1024\n",
    "    hidden_weights = tf.Variable(tf.truncated_normal([image_size * image_size, hidden_layer_size]))\n",
    "    hidden_biases = tf.Variable(tf.zeros([hidden_layer_size]))\n",
    "    hidden_layer = tf.nn.relu(tf.matmul(tf_train_dataset, hidden_weights) + hidden_biases)\n",
    "\n",
    "    output_weights = tf.Variable(tf.truncated_normal([hidden_layer_size, num_labels]))\n",
    "    output_biases = tf.Variable(tf.zeros([num_labels]))\n",
    "    logits = tf.matmul(hidden_layer, output_weights) + output_biases\n",
    "\n",
    "    loss = tf.reduce_mean(tf.nn.softmax_cross_entropy_with_logits(logits=logits, labels=tf_train_labels))\n",
    "    l2_regularizer = tf.nn.l2_loss(output_weights) + tf.nn.l2_loss(hidden_weights)\n",
    "    loss += 5e-4 * l2_regularizer\n",
    "    optimizer = tf.train.GradientDescentOptimizer(0.5).minimize(loss)\n",
    "\n",
    "    train_prediction = tf.nn.softmax(logits)\n",
    "    # Setup validation prediction step.\n",
    "    valid_hidden = tf.nn.relu(tf.matmul(tf_valid_dataset, hidden_weights) + hidden_biases)\n",
    "    valid_logits = tf.matmul(valid_hidden, output_weights) + output_biases\n",
    "    valid_prediction = tf.nn.softmax(valid_logits)\n",
    "\n",
    "    # And setup the test prediction step.\n",
    "    test_hidden = tf.nn.relu(tf.matmul(tf_test_dataset, hidden_weights) + hidden_biases)\n",
    "    test_logits = tf.matmul(test_hidden, output_weights) + output_biases\n",
    "    test_prediction = tf.nn.softmax(test_logits)"
   ]
  },
  {
   "cell_type": "code",
   "execution_count": 14,
   "metadata": {
    "collapsed": false
   },
   "outputs": [
    {
     "name": "stdout",
     "output_type": "stream",
     "text": [
      "WARNING:tensorflow:From /Users/ddedik/anaconda2/envs/oenv/lib/python2.7/site-packages/tensorflow/python/util/tf_should_use.py:175: initialize_all_variables (from tensorflow.python.ops.variables) is deprecated and will be removed after 2017-03-02.\n",
      "Instructions for updating:\n",
      "Use `tf.global_variables_initializer` instead.\n",
      "Initialized\n",
      "Minibatch loss at step 0: 495.490021\n",
      "Minibatch accuracy: 4.7%\n",
      "Validation accuracy: 33.6%\n",
      "Test accuracy: 37.1%\n",
      "Minibatch loss at step 500: 122.412384\n",
      "Minibatch accuracy: 100.0%\n",
      "Validation accuracy: 76.8%\n",
      "Test accuracy: 83.9%\n",
      "Minibatch loss at step 1000: 95.331894\n",
      "Minibatch accuracy: 100.0%\n",
      "Validation accuracy: 76.7%\n",
      "Test accuracy: 84.0%\n",
      "Minibatch loss at step 1500: 74.242096\n",
      "Minibatch accuracy: 100.0%\n",
      "Validation accuracy: 76.7%\n",
      "Test accuracy: 84.0%\n",
      "Minibatch loss at step 2000: 57.818153\n",
      "Minibatch accuracy: 100.0%\n",
      "Validation accuracy: 76.7%\n",
      "Test accuracy: 84.0%\n",
      "Minibatch loss at step 2500: 45.027313\n",
      "Minibatch accuracy: 100.0%\n",
      "Validation accuracy: 76.7%\n",
      "Test accuracy: 83.9%\n",
      "Minibatch loss at step 3000: 35.066254\n",
      "Minibatch accuracy: 100.0%\n",
      "Validation accuracy: 76.8%\n",
      "Test accuracy: 83.9%\n",
      "  Test accuracy: 83.9%\n"
     ]
    },
    {
     "data": {
      "image/png": "[encoded data removed]",
      "text/plain": [
       "<matplotlib.figure.Figure at 0x124a44c50>"
      ]
     },
     "metadata": {},
     "output_type": "display_data"
    }
   ],
   "source": [
    "num_steps = 3001\n",
    "result_data = np.ndarray(shape=(1+num_steps//100,4), dtype=np.float32)\n",
    "\n",
    "with tf.Session(graph=graph) as session:\n",
    "    tf.initialize_all_variables().run()\n",
    "    print(\"Initialized\")\n",
    "    for step in range(num_steps):\n",
    "        offset = batch_size * np.random.choice(np.arange(5))\n",
    "        batch_data = train_dataset[offset:(offset + batch_size), :]\n",
    "        batch_labels = train_labels[offset:(offset + batch_size), :]\n",
    "        feed_dict = {tf_train_dataset : batch_data, tf_train_labels : batch_labels}\n",
    "        _, l, predictions = session.run(\n",
    "          [optimizer, loss, train_prediction], feed_dict=feed_dict)\n",
    "        if (step % 100 == 0):\n",
    "            batch_score = accuracy(predictions, batch_labels)\n",
    "            valid_score = accuracy(valid_prediction.eval(), valid_labels)\n",
    "            test_score = accuracy(test_prediction.eval(), test_labels)\n",
    "            if (step % 500 == 0):\n",
    "                print(\"Minibatch loss at step %d: %f\" % (step, l))\n",
    "                print(\"Minibatch accuracy: %.1f%%\" % batch_score)\n",
    "                print(\"Validation accuracy: %.1f%%\" % valid_score)\n",
    "                print(\"Test accuracy: %.1f%%\" % test_score)\n",
    "            result_data[step//100,:] = [step*batch_size, batch_score/100, valid_score/100, test_score/100]\n",
    "    print(\"  Test accuracy: %.1f%%\" % test_score)\n",
    "    \n",
    "\"\"\"\n",
    "Plot results\n",
    "\"\"\"\n",
    "fig, ax = plt.subplots()\n",
    "ax.plot(result_data[:,0], result_data[:,1:4])\n",
    "ax.set_title('Scores given training size')\n",
    "ax.legend(('batch','valid', 'test'), loc='lower right')\n",
    "ax.set_xticks(result_data[:,0])\n",
    "ax.set_xlabel('Training size')\n",
    "ax.set_ylim(0,1.01)\n",
    "ax.grid()\n",
    "plt.show()"
   ]
  },
  {
   "cell_type": "markdown",
   "metadata": {
    "colab_type": "text",
    "id": "ww3SCBUdlkRc"
   },
   "source": [
    "---\n",
    "Problem 3\n",
    "---------\n",
    "Introduce Dropout on the hidden layer of the neural network. Remember: Dropout should only be introduced during training, not evaluation, otherwise your evaluation results would be stochastic as well. TensorFlow provides `nn.dropout()` for that, but you have to make sure it's only inserted during training.\n",
    "\n",
    "What happens to our extreme overfitting case?\n",
    "\n",
    "---"
   ]
  },
  {
   "cell_type": "code",
   "execution_count": 15,
   "metadata": {
    "collapsed": true
   },
   "outputs": [],
   "source": [
    "batch_size = 128\n",
    "\n",
    "graph = tf.Graph()\n",
    "with graph.as_default():\n",
    "\n",
    "    tf_train_dataset = tf.placeholder(tf.float32,shape=(batch_size, image_size * image_size))\n",
    "    tf_train_labels = tf.placeholder(tf.float32, shape=(batch_size, num_labels))\n",
    "    tf_valid_dataset = tf.constant(valid_dataset)\n",
    "    tf_test_dataset = tf.constant(test_dataset)\n",
    "\n",
    "    hidden_layer_size = 1024\n",
    "    hidden_weights = tf.Variable(tf.truncated_normal([image_size * image_size, hidden_layer_size]))\n",
    "    hidden_biases = tf.Variable(tf.zeros([hidden_layer_size]))\n",
    "    hidden_layer = tf.nn.dropout(tf.nn.relu(tf.matmul(tf_train_dataset, hidden_weights) + hidden_biases), 0.5)\n",
    "\n",
    "    output_weights = tf.Variable(tf.truncated_normal([hidden_layer_size, num_labels]))\n",
    "    output_biases = tf.Variable(tf.zeros([num_labels]))\n",
    "    logits = tf.matmul(hidden_layer, output_weights) + output_biases\n",
    "\n",
    "    loss = tf.reduce_mean(tf.nn.softmax_cross_entropy_with_logits(logits=logits, labels=tf_train_labels))\n",
    "    optimizer = tf.train.GradientDescentOptimizer(0.5).minimize(loss)\n",
    "\n",
    "    train_prediction = tf.nn.softmax(logits)\n",
    "    # Setup validation prediction step.\n",
    "    valid_hidden = tf.nn.relu(tf.matmul(tf_valid_dataset, hidden_weights) + hidden_biases)\n",
    "    valid_logits = tf.matmul(valid_hidden, output_weights) + output_biases\n",
    "    valid_prediction = tf.nn.softmax(valid_logits)\n",
    "\n",
    "    # And setup the test prediction step.\n",
    "    test_hidden = tf.nn.relu(tf.matmul(tf_test_dataset, hidden_weights) + hidden_biases)\n",
    "    test_logits = tf.matmul(test_hidden, output_weights) + output_biases\n",
    "    test_prediction = tf.nn.softmax(test_logits)"
   ]
  },
  {
   "cell_type": "code",
   "execution_count": 16,
   "metadata": {
    "collapsed": false
   },
   "outputs": [
    {
     "name": "stdout",
     "output_type": "stream",
     "text": [
      "WARNING:tensorflow:From /Users/ddedik/anaconda2/envs/oenv/lib/python2.7/site-packages/tensorflow/python/util/tf_should_use.py:175: initialize_all_variables (from tensorflow.python.ops.variables) is deprecated and will be removed after 2017-03-02.\n",
      "Instructions for updating:\n",
      "Use `tf.global_variables_initializer` instead.\n",
      "Initialized\n",
      "Minibatch loss at step 0: 422.980225\n",
      "Minibatch accuracy: 9.4%\n",
      "Validation accuracy: 36.5%\n",
      "Test accuracy: 39.9%\n",
      "Minibatch loss at step 1000: 0.000000\n",
      "Minibatch accuracy: 100.0%\n",
      "Validation accuracy: 78.7%\n",
      "Test accuracy: 86.2%\n",
      "Minibatch loss at step 2000: 0.000000\n",
      "Minibatch accuracy: 100.0%\n",
      "Validation accuracy: 79.1%\n",
      "Test accuracy: 86.3%\n",
      "Minibatch loss at step 3000: 0.000000\n",
      "Minibatch accuracy: 100.0%\n",
      "Validation accuracy: 79.0%\n",
      "Test accuracy: 86.2%\n",
      "Test accuracy: 86.2%\n"
     ]
    },
    {
     "data": {
      "image/png": "[encoded data removed]",
      "text/plain": [
       "<matplotlib.figure.Figure at 0x124a44b90>"
      ]
     },
     "metadata": {},
     "output_type": "display_data"
    }
   ],
   "source": [
    "num_steps = 3001\n",
    "result_data = np.ndarray(shape=(1+num_steps//100,4), dtype=np.float32)\n",
    "\n",
    "with tf.Session(graph=graph) as session:\n",
    "    tf.initialize_all_variables().run()\n",
    "    print(\"Initialized\")\n",
    "    for step in range(num_steps):\n",
    "        offset = batch_size * np.random.choice(np.arange(5))\n",
    "        batch_data = train_dataset[offset:(offset + batch_size), :]\n",
    "        batch_labels = train_labels[offset:(offset + batch_size), :]\n",
    "        feed_dict = {tf_train_dataset : batch_data, tf_train_labels : batch_labels}\n",
    "        _, l, predictions = session.run(\n",
    "          [optimizer, loss, train_prediction], feed_dict=feed_dict)\n",
    "        if (step % 100 == 0):\n",
    "            batch_score = accuracy(predictions, batch_labels)\n",
    "            valid_score = accuracy(valid_prediction.eval(), valid_labels)\n",
    "            test_score = accuracy(test_prediction.eval(), test_labels)\n",
    "            if (step % 1000 == 0):\n",
    "                print(\"Minibatch loss at step %d: %f\" % (step, l))\n",
    "                print(\"Minibatch accuracy: %.1f%%\" % batch_score)\n",
    "                print(\"Validation accuracy: %.1f%%\" % valid_score)\n",
    "                print(\"Test accuracy: %.1f%%\" % test_score)\n",
    "            result_data[step//100,:] = [step*batch_size, batch_score/100, valid_score/100, test_score/100]\n",
    "    print(\"Test accuracy: %.1f%%\" % test_score)\n",
    "    \n",
    "\"\"\"\n",
    "Plot results\n",
    "\"\"\"\n",
    "fig, ax = plt.subplots()\n",
    "ax.plot(result_data[:,0], result_data[:,1:4])\n",
    "ax.set_title('Scores given training size')\n",
    "ax.legend(('batch','valid', 'test'), loc='lower right')\n",
    "ax.set_xticks(result_data[:,0])\n",
    "ax.set_xlabel('Training size')\n",
    "ax.set_ylim(0,1.01)\n",
    "ax.grid()\n",
    "plt.show()"
   ]
  },
  {
   "cell_type": "markdown",
   "metadata": {
    "colab_type": "text",
    "id": "-b1hTz3VWZjw"
   },
   "source": [
    "---\n",
    "Problem 4\n",
    "---------\n",
    "\n",
    "Try to get the best performance you can using a multi-layer model! The best reported test accuracy using a deep network is [97.1%](http://yaroslavvb.blogspot.com/2011/09/notmnist-dataset.html?showComment=1391023266211#c8758720086795711595).\n",
    "\n",
    "One avenue you can explore is to add multiple layers.\n",
    "\n",
    "Another one is to use learning rate decay:\n",
    "\n",
    "    global_step = tf.Variable(0)  # count the number of steps taken.\n",
    "    learning_rate = tf.train.exponential_decay(0.5, global_step, ...)\n",
    "    optimizer = tf.train.GradientDescentOptimizer(learning_rate).minimize(loss, global_step=global_step)\n",
    " \n",
    " ---\n"
   ]
  },
  {
   "cell_type": "code",
   "execution_count": 17,
   "metadata": {
    "collapsed": false
   },
   "outputs": [],
   "source": [
    "batch_size = 128\n",
    "num_hidden_nodes_1 = 1024\n",
    "num_hidden_nodes_2 = 512\n",
    "num_hidden_nodes_3 = 256\n",
    "keep_prob = 0.5\n",
    "\n",
    "graph = tf.Graph()\n",
    "with graph.as_default():\n",
    "    tf_train_dataset = tf.placeholder(tf.float32,shape=(batch_size, image_size * image_size))\n",
    "    tf_train_labels = tf.placeholder(tf.float32, shape=(batch_size, num_labels))\n",
    "    tf_valid_dataset = tf.constant(valid_dataset)\n",
    "    tf_test_dataset = tf.constant(test_dataset)\n",
    "    global_step = tf.Variable(0)\n",
    "    \n",
    "    weights1 = tf.Variable(tf.truncated_normal([image_size * image_size, num_hidden_nodes_1], \n",
    "                           stddev=np.sqrt(2.0 / (image_size * image_size))))\n",
    "    biases1 = tf.Variable(tf.zeros([num_hidden_nodes_1]))\n",
    "\n",
    "    weights2 = tf.Variable(tf.truncated_normal([num_hidden_nodes_1, num_hidden_nodes_2],\n",
    "                          stddev=np.sqrt(2.0 / num_hidden_nodes_1)))\n",
    "    biases2 = tf.Variable(tf.zeros([num_hidden_nodes_2]))\n",
    "    \n",
    "    weights3 = tf.Variable(tf.truncated_normal([num_hidden_nodes_2, num_hidden_nodes_3],\n",
    "                          stddev=np.sqrt(2.0 / num_hidden_nodes_2)))\n",
    "    biases3 = tf.Variable(tf.zeros([num_hidden_nodes_3]))\n",
    "    \n",
    "    output_weights = tf.Variable(tf.truncated_normal([num_hidden_nodes_3, num_labels],\n",
    "                                stddev=np.sqrt(2.0 / num_hidden_nodes_3)))\n",
    "    output_biases = tf.Variable(tf.zeros([num_labels]))\n",
    "    \n",
    "    layer1_train = tf.nn.relu(tf.matmul(tf_train_dataset, weights1) + biases1)\n",
    "    drop1 = tf.nn.dropout(layer1_train, 0.5)\n",
    "    layer2_train = tf.nn.relu(tf.matmul(drop1, weights2) + biases2)\n",
    "    drop2 = tf.nn.dropout(layer2_train, 0.5)\n",
    "    layer3_train = tf.nn.relu(tf.matmul(drop2, weights3) + biases3)\n",
    "    drop3 = tf.nn.dropout(layer3_train, 0.5)\n",
    "    logits = tf.matmul(drop3, output_weights) + output_biases  \n",
    "    loss = tf.reduce_mean(tf.nn.softmax_cross_entropy_with_logits(logits=logits, labels=tf_train_labels))\n",
    "    \n",
    "    learning_rate = tf.train.exponential_decay(0.5, global_step, 4000, 0.65, staircase=True)\n",
    "    optimizer = tf.train.GradientDescentOptimizer(learning_rate).minimize(loss, global_step=global_step)\n",
    "\n",
    "    train_prediction = tf.nn.softmax(logits)\n",
    "    # Setup validation prediction step.\n",
    "    valid_hidden1 = tf.nn.relu(tf.matmul(tf_valid_dataset, weights1) + biases1)\n",
    "    valid_hidden2 = tf.nn.relu(tf.matmul(valid_hidden1, weights2) + biases2)\n",
    "    valid_hidden3 = tf.nn.relu(tf.matmul(valid_hidden2, weights3) + biases3)\n",
    "    valid_logits = tf.matmul(valid_hidden3, output_weights) + output_biases\n",
    "    valid_prediction = tf.nn.softmax(valid_logits)\n",
    "\n",
    "    # And setup the test prediction step.\n",
    "    test_hidden1 = tf.nn.relu(tf.matmul(tf_test_dataset, weights1) + biases1)\n",
    "    test_hidden2 = tf.nn.relu(tf.matmul(test_hidden1, weights2) + biases2)\n",
    "    test_hidden3 = tf.nn.relu(tf.matmul(test_hidden2, weights3) + biases3)\n",
    "    test_logits = tf.matmul(test_hidden3, output_weights) + output_biases\n",
    "    test_prediction = tf.nn.softmax(test_logits)\n",
    "    "
   ]
  },
  {
   "cell_type": "code",
   "execution_count": 18,
   "metadata": {
    "collapsed": false
   },
   "outputs": [
    {
     "name": "stdout",
     "output_type": "stream",
     "text": [
      "WARNING:tensorflow:From /Users/ddedik/anaconda2/envs/oenv/lib/python2.7/site-packages/tensorflow/python/util/tf_should_use.py:175: initialize_all_variables (from tensorflow.python.ops.variables) is deprecated and will be removed after 2017-03-02.\n",
      "Instructions for updating:\n",
      "Use `tf.global_variables_initializer` instead.\n",
      "Initialized\n",
      "Minibatch loss at step 0: 2.870701\n",
      "Minibatch accuracy: 9.4%\n",
      "Validation accuracy: 26.5%\n",
      "Test accuracy: 28.0%\n",
      "Minibatch loss at step 1000: 0.614621\n",
      "Minibatch accuracy: 79.7%\n",
      "Validation accuracy: 84.7%\n",
      "Test accuracy: 91.8%\n",
      "Minibatch loss at step 2000: 0.343320\n",
      "Minibatch accuracy: 93.8%\n",
      "Validation accuracy: 86.0%\n",
      "Test accuracy: 92.7%\n",
      "Minibatch loss at step 3000: 0.526512\n",
      "Minibatch accuracy: 82.0%\n",
      "Validation accuracy: 86.3%\n",
      "Test accuracy: 93.2%\n",
      "Minibatch loss at step 4000: 0.419788\n",
      "Minibatch accuracy: 87.5%\n",
      "Validation accuracy: 87.2%\n",
      "Test accuracy: 93.8%\n",
      "Minibatch loss at step 5000: 0.453588\n",
      "Minibatch accuracy: 87.5%\n",
      "Validation accuracy: 87.9%\n",
      "Test accuracy: 94.0%\n",
      "Minibatch loss at step 6000: 0.476684\n",
      "Minibatch accuracy: 84.4%\n",
      "Validation accuracy: 88.2%\n",
      "Test accuracy: 94.4%\n",
      "Minibatch loss at step 7000: 0.537407\n",
      "Minibatch accuracy: 85.9%\n",
      "Validation accuracy: 88.5%\n",
      "Test accuracy: 94.7%\n",
      "Minibatch loss at step 8000: 0.642811\n",
      "Minibatch accuracy: 75.8%\n",
      "Validation accuracy: 88.8%\n",
      "Test accuracy: 94.9%\n",
      "Minibatch loss at step 9000: 0.455649\n",
      "Minibatch accuracy: 86.7%\n",
      "Validation accuracy: 89.0%\n",
      "Test accuracy: 95.0%\n",
      "Minibatch loss at step 10000: 0.350047\n",
      "Minibatch accuracy: 85.9%\n",
      "Validation accuracy: 89.1%\n",
      "Test accuracy: 95.2%\n",
      "Minibatch loss at step 11000: 0.290178\n",
      "Minibatch accuracy: 92.2%\n",
      "Validation accuracy: 89.3%\n",
      "Test accuracy: 95.3%\n",
      "Minibatch loss at step 12000: 0.416336\n",
      "Minibatch accuracy: 87.5%\n",
      "Validation accuracy: 89.3%\n",
      "Test accuracy: 95.3%\n",
      "Minibatch loss at step 13000: 0.492433\n",
      "Minibatch accuracy: 85.9%\n",
      "Validation accuracy: 89.8%\n",
      "Test accuracy: 95.4%\n",
      "Minibatch loss at step 14000: 0.454957\n",
      "Minibatch accuracy: 84.4%\n",
      "Validation accuracy: 89.9%\n",
      "Test accuracy: 95.4%\n",
      "Minibatch loss at step 15000: 0.306145\n",
      "Minibatch accuracy: 91.4%\n",
      "Validation accuracy: 89.8%\n",
      "Test accuracy: 95.5%\n",
      "Minibatch loss at step 16000: 0.281946\n",
      "Minibatch accuracy: 93.0%\n",
      "Validation accuracy: 90.0%\n",
      "Test accuracy: 95.5%\n",
      "Minibatch loss at step 17000: 0.233098\n",
      "Minibatch accuracy: 93.8%\n",
      "Validation accuracy: 90.1%\n",
      "Test accuracy: 95.6%\n",
      "Minibatch loss at step 18000: 0.236676\n",
      "Minibatch accuracy: 94.5%\n",
      "Validation accuracy: 90.1%\n",
      "Test accuracy: 95.8%\n",
      "Test accuracy: 95.8%\n"
     ]
    },
    {
     "data": {
      "image/png": "[encoded data removed]",
      "text/plain": [
       "<matplotlib.figure.Figure at 0x128cf1190>"
      ]
     },
     "metadata": {},
     "output_type": "display_data"
    }
   ],
   "source": [
    "num_steps = 18001\n",
    "result_data = np.ndarray(shape=(1+num_steps//100,4), dtype=np.float32)\n",
    "\n",
    "with tf.Session(graph=graph) as session:\n",
    "    tf.initialize_all_variables().run()\n",
    "    print(\"Initialized\")\n",
    "    for step in range(num_steps):\n",
    "        offset = (step * batch_size) % (train_labels.shape[0] - batch_size)\n",
    "        #offset = batch_size * np.random.choice(np.arange(5))\n",
    "        batch_data = train_dataset[offset:(offset + batch_size), :]\n",
    "        batch_labels = train_labels[offset:(offset + batch_size), :]\n",
    "        feed_dict = {tf_train_dataset : batch_data, tf_train_labels : batch_labels}\n",
    "        _, l, predictions = session.run(\n",
    "          [optimizer, loss, train_prediction], feed_dict=feed_dict)\n",
    "        if (step % 100 == 0):\n",
    "            batch_score = accuracy(predictions, batch_labels)\n",
    "            valid_score = accuracy(valid_prediction.eval(), valid_labels)\n",
    "            test_score = accuracy(test_prediction.eval(), test_labels)\n",
    "            if (step % 1000 == 0):\n",
    "                print(\"Minibatch loss at step %d: %f\" % (step, l))\n",
    "                print(\"Minibatch accuracy: %.1f%%\" % batch_score)\n",
    "                print(\"Validation accuracy: %.1f%%\" % valid_score)\n",
    "                print(\"Test accuracy: %.1f%%\" % test_score)\n",
    "            result_data[step//100,:] = [step*batch_size, batch_score/100, valid_score/100, test_score/100]\n",
    "    print(\"Test accuracy: %.1f%%\" % test_score)\n",
    "    \n",
    "\"\"\"\n",
    "Plot results\n",
    "\"\"\"\n",
    "fig, ax = plt.subplots()\n",
    "ax.plot(result_data[:,0], result_data[:,1:4])\n",
    "ax.set_title('Scores given training size')\n",
    "ax.legend(('batch','valid', 'test'), loc='lower right')\n",
    "ax.set_xticks(result_data[:,0])\n",
    "ax.set_xlabel('Training size')\n",
    "ax.set_ylim(0,1.01)\n",
    "ax.grid()\n",
    "plt.show()"
   ]
  }
 ],
 "metadata": {
  "colab": {
   "default_view": {},
   "name": "3_regularization.ipynb",
   "provenance": [],
   "version": "0.3.2",
   "views": {}
  },
  "kernelspec": {
   "display_name": "Python 2",
   "language": "python",
   "name": "python2"
  },
  "language_info": {
   "codemirror_mode": {
    "name": "ipython",
    "version": 2
   },
   "file_extension": ".py",
   "mimetype": "text/x-python",
   "name": "python",
   "nbconvert_exporter": "python",
   "pygments_lexer": "ipython2",
   "version": "2.7.13"
  }
 },
 "nbformat": 4,
 "nbformat_minor": 1
}
